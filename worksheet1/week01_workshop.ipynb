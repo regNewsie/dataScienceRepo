{
  "nbformat": 4,
  "nbformat_minor": 0,
  "metadata": {
    "colab": {
      "provenance": []
    },
    "kernelspec": {
      "name": "python3",
      "display_name": "Python 3"
    },
    "language_info": {
      "name": "python"
    }
  },
  "cells": [
    {
      "cell_type": "code",
      "execution_count": null,
      "metadata": {
        "colab": {
          "base_uri": "https://localhost:8080/"
        },
        "id": "uzdRfWJhQDdC",
        "outputId": "7471b948-fc13-4e92-ec1e-e728382137f9"
      },
      "outputs": [
        {
          "output_type": "stream",
          "name": "stdout",
          "text": [
            "Enter value of the first variable: 0\n",
            "Enter value of the second variable: 00000\n",
            "Original values: a = 0, b = 00000\n",
            "swapped values: a = 00000, b = 0\n"
          ]
        }
      ],
      "source": [
        "# problem 1\n",
        "print(\"Hello Python\")\n"
      ]
    },
    {
      "cell_type": "code",
      "source": [
        "# problem 2\n",
        "a = input(\"Enter value of the first variable: \")\n",
        "b = input(\"Enter value of the second variable: \")\n",
        "print(f\"Original values: a = {a}, b = {b}\")\n",
        "temp = a\n",
        "a = b\n",
        "b = temp\n",
        "print(f\"swapped values: a = {a}, b = {b}\")"
      ],
      "metadata": {
        "id": "YJbhcJgVSEvj",
        "outputId": "ff2661d9-b567-467c-edba-1330ccedbb0a",
        "colab": {
          "base_uri": "https://localhost:8080/"
        }
      },
      "execution_count": null,
      "outputs": [
        {
          "output_type": "stream",
          "name": "stdout",
          "text": [
            "Enter value of the first variable: g\n",
            "Enter value of the second variable: klkl\n",
            "Original values: a = g, b = klkl\n",
            "swapped values: a = klkl, b = g\n"
          ]
        }
      ]
    },
    {
      "cell_type": "code",
      "source": [
        "# problem 3\n",
        "num1 = float(input(\"Enter the first number for addition: \"))\n",
        "num2 = float(input(\"Enter the second number for addition: \"))\n",
        "sum = num1 + num2\n",
        "print(f\"sum: {num1} + {num2} = {sum}\")\n",
        "\n",
        "num3 = float(input(\"Enterthe diviend for division: \"))\n",
        "num4 = float(input(\"Enterthe divisor for division: \"))\n",
        "if num4 == 0:\n",
        "  print(\"Error: Cannot divide by 0\")\n",
        "else:\n",
        "  div_result = num3 / num4\n",
        "  print(f\"Division: {num3}/{num4}={div_result}\")"
      ],
      "metadata": {
        "colab": {
          "base_uri": "https://localhost:8080/"
        },
        "id": "KFGU6i3VSP0R",
        "outputId": "791929f9-99c7-4c1e-9e5a-b69576db3db2"
      },
      "execution_count": null,
      "outputs": [
        {
          "output_type": "stream",
          "name": "stdout",
          "text": [
            "Enter the first number for addition: 1\n",
            "Enter the second number for addition: 3\n",
            "sum: 1.0 + 3.0 = 4.0\n"
          ]
        }
      ]
    },
    {
      "cell_type": "code",
      "source": [
        "# problem 4\n",
        "kilometers = float(input(\"Enter distance in kilometers: \"))\n",
        "\n",
        "conversion_factor = 0.621371\n",
        "\n",
        "miles = kilometers * conversion_factor\n",
        "\n",
        "print(f\"{kilometers} kilometers is equal to {miles} miles\")\n"
      ],
      "metadata": {
        "colab": {
          "base_uri": "https://localhost:8080/"
        },
        "id": "GhlUc_OrSnlB",
        "outputId": "d80c9eab-d33f-4fa2-bd01-da9b78a3891c"
      },
      "execution_count": null,
      "outputs": [
        {
          "output_type": "stream",
          "name": "stdout",
          "text": [
            "Enter distance in kilometers: 2.5\n",
            "2.5 kilometers is equal to 1.5534275 miles\n"
          ]
        }
      ]
    },
    {
      "cell_type": "code",
      "source": [
        "# problem 5\n",
        "import numpy as np\n",
        "import matplotlib.pyplot as plt\n",
        "import pandas as pd\n",
        "\n",
        "print(\"Libraries imported successfully!\")"
      ],
      "metadata": {
        "id": "BSuwf3YjTt9A",
        "outputId": "15676e5c-9b57-49a0-ab9e-205d37c7eb50",
        "colab": {
          "base_uri": "https://localhost:8080/"
        }
      },
      "execution_count": null,
      "outputs": [
        {
          "output_type": "stream",
          "name": "stdout",
          "text": [
            "Libraries imported successfully!\n"
          ]
        }
      ]
    },
    {
      "cell_type": "code",
      "source": [
        "# problem 6\n",
        "import calendar\n",
        "year = int(input(\"Enter year: \"))\n",
        "month = int(input(\"Enter month: \"))\n",
        "cal = calendar.month(year, month)\n",
        "print(cal)"
      ],
      "metadata": {
        "colab": {
          "base_uri": "https://localhost:8080/"
        },
        "id": "gz7mD-ncUC4m",
        "outputId": "5fc442da-b02d-4298-ffa5-561579354a30"
      },
      "execution_count": null,
      "outputs": [
        {
          "output_type": "stream",
          "name": "stdout",
          "text": [
            "Enter year: 2024\n",
            "Enter month: 3\n",
            "     March 2024\n",
            "Mo Tu We Th Fr Sa Su\n",
            "             1  2  3\n",
            " 4  5  6  7  8  9 10\n",
            "11 12 13 14 15 16 17\n",
            "18 19 20 21 22 23 24\n",
            "25 26 27 28 29 30 31\n",
            "\n"
          ]
        }
      ]
    },
    {
      "cell_type": "code",
      "source": [
        "# problem 7\n",
        "def calculate_water_intake(weight, activity_level):\n",
        "  base_intake = weight * 0.033\n",
        "\n",
        "  if activity_level == \"low\":\n",
        "    return base_intake\n",
        "  elif activity_level == \"moderate\":\n",
        "    return base_intake + 0.5\n",
        "  elif activity_level == \"high\":\n",
        "    return base_intake + 1.0\n",
        "  else:\n",
        "    return None\n",
        "\n",
        "print(\"Welcome to the Daily Water Intake Calculator!\")\n",
        "\n",
        "while True:\n",
        "  try:\n",
        "    weight = float(input(\"Enter your weight in kg: \"))\n",
        "    break\n",
        "  except ValueError:\n",
        "    print(\"Please enter a valid number for weight\")\n",
        "\n",
        "while True:\n",
        "  activity_level = input(\"Enter your activity level (low, moderate, high): \").lower()\n",
        "  daily_water = calculate_water_intake(weight, activity_level)\n",
        "  if daily_water:\n",
        "    print(f\"Based on your weight and activity level, you should drink approximately {daily_water:.2f} liters of water everyday.\")\n",
        "    break\n",
        "  else:\n",
        "    print(\"Plase enter a valid activity level (low, moderate, high).\")\n",
        "\n",
        "print(\"Stay hydrated!\")\n"
      ],
      "metadata": {
        "colab": {
          "base_uri": "https://localhost:8080/"
        },
        "id": "gRKfpQnKUgHR",
        "outputId": "56bf04a0-4c66-44b2-a634-ebfe8d9ce3b2"
      },
      "execution_count": null,
      "outputs": [
        {
          "output_type": "stream",
          "name": "stdout",
          "text": [
            "Welcome to the Daily Water Intake Calculator!\n",
            "Enter your weight in kg: 50\n",
            "Enter your activity level (low, moderate, high): high\n",
            "Based on your weight and activity level, you should drink approximately 2.65 liters of water everyday.\n",
            "Stay hydrated!\n"
          ]
        }
      ]
    },
    {
      "cell_type": "code",
      "source": [
        "# Question 3\n",
        "def even_or_odd(number):\n",
        "  if number % 2:\n",
        "    print(f\"{number} is even\")\n",
        "  else:\n",
        "    print(f\"{number} is odd\")\n",
        "\n",
        "number = float(input(\"type a number to check if it is even or odd: \"))\n",
        "even_or_odd(number)"
      ],
      "metadata": {
        "colab": {
          "base_uri": "https://localhost:8080/"
        },
        "id": "2G7lWRgcXgMz",
        "outputId": "ea9d8f96-6cac-4e9d-d2aa-852f84959fd7"
      },
      "execution_count": null,
      "outputs": [
        {
          "output_type": "stream",
          "name": "stdout",
          "text": [
            "type a number to check if it is even or odd: 5\n",
            "5.0 is even\n"
          ]
        }
      ]
    },
    {
      "cell_type": "code",
      "source": [
        "# question 7\n",
        "def days_to_other(days):\n",
        "  og_days = days\n",
        "  r_years = days // 365\n",
        "  days -= r_years * 365\n",
        "  r_weeks = days // 7\n",
        "  days -= r_weeks * 7\n",
        "  print(f\"in {og_days}, there are {r_years} years, {r_weeks} weeks, and {days} days\")\n",
        "\n",
        "days_to_other(int(input(\"enter the amount of days: \")))"
      ],
      "metadata": {
        "colab": {
          "base_uri": "https://localhost:8080/"
        },
        "id": "C6Y8JJXQZTYI",
        "outputId": "248c3ea5-88f3-452e-e62c-1b6250124815"
      },
      "execution_count": null,
      "outputs": [
        {
          "output_type": "stream",
          "name": "stdout",
          "text": [
            "enter the amount of days:7645\n",
            "in 7645, there are 20 years, 49 weeks, and 2 days\n"
          ]
        }
      ]
    }
  ]
}